{
 "cells": [
  {
   "cell_type": "markdown",
   "metadata": {},
   "source": [
    "# 检索机器人"
   ]
  },
  {
   "cell_type": "markdown",
   "metadata": {},
   "source": [
    "## Step1 读取faq数据"
   ]
  },
  {
   "cell_type": "code",
   "execution_count": null,
   "metadata": {},
   "outputs": [],
   "source": [
    "import pandas as pd\n",
    "\n",
    "data = pd.read_csv(\"./law_faq.csv\")\n",
    "data.head()"
   ]
  },
  {
   "cell_type": "markdown",
   "metadata": {},
   "source": [
    "## Step2 加载模型"
   ]
  },
  {
   "cell_type": "code",
   "execution_count": null,
   "metadata": {},
   "outputs": [],
   "source": [
    "from dual_model import DualModel\n",
    "\n",
    "# 需要完成前置模型训练\n",
    "dual_model = DualModel.from_pretrained(\"../12-sentence_similarity/dual_model/checkpoint-500/\")\n",
    "dual_model = dual_model.cuda()\n",
    "dual_model.eval()\n",
    "print(\"匹配模型加载成功！\")"
   ]
  },
  {
   "cell_type": "code",
   "execution_count": null,
   "metadata": {},
   "outputs": [],
   "source": [
    "from transformers import AutoTokenizer\n",
    "tokenzier = AutoTokenizer.from_pretrained(\"hfl/chinese-macbert-base\")\n",
    "tokenzier"
   ]
  },
  {
   "cell_type": "markdown",
   "metadata": {},
   "source": [
    "## Step3 将问题编码为向量"
   ]
  },
  {
   "cell_type": "code",
   "execution_count": null,
   "metadata": {},
   "outputs": [],
   "source": [
    "import torch\n",
    "from tqdm import tqdm\n",
    "questions = data[\"title\"].to_list()\n",
    "vectors = []\n",
    "with torch.inference_mode():\n",
    "    for i in tqdm(range(0, len(questions), 32)):\n",
    "        batch_sens = questions[i: i + 32]\n",
    "        inputs = tokenzier(batch_sens, return_tensors=\"pt\", padding=True, max_length=128, truncation=True)\n",
    "        inputs = {k: v.to(dual_model.device) for k, v in inputs.items()}\n",
    "        vector = dual_model.bert(**inputs)[1]\n",
    "        vectors.append(vector)\n",
    "vectors = torch.concat(vectors, dim=0).cpu().numpy()\n",
    "vectors.shape"
   ]
  },
  {
   "cell_type": "markdown",
   "metadata": {},
   "source": [
    "## Step4 创建索引"
   ]
  },
  {
   "cell_type": "code",
   "execution_count": null,
   "metadata": {},
   "outputs": [],
   "source": [
    "import faiss\n",
    "\n",
    "index = faiss.IndexFlatIP(768)\n",
    "faiss.normalize_L2(vectors)\n",
    "index.add(vectors)\n",
    "index"
   ]
  },
  {
   "cell_type": "markdown",
   "metadata": {},
   "source": [
    "## Step5 对问题进行向量编码"
   ]
  },
  {
   "cell_type": "code",
   "execution_count": null,
   "metadata": {},
   "outputs": [],
   "source": [
    "quesiton = \"寻衅滋事\"\n",
    "with torch.inference_mode():\n",
    "    inputs = tokenzier(quesiton, return_tensors=\"pt\", padding=True, max_length=128, truncation=True)\n",
    "    inputs = {k: v.to(dual_model.device) for k, v in inputs.items()}\n",
    "    vector = dual_model.bert(**inputs)[1]\n",
    "    q_vector = vector.cpu().numpy()\n",
    "q_vector.shape"
   ]
  },
  {
   "cell_type": "markdown",
   "metadata": {},
   "source": [
    "## Step6 向量匹配(召回)"
   ]
  },
  {
   "cell_type": "code",
   "execution_count": null,
   "metadata": {},
   "outputs": [],
   "source": [
    "faiss.normalize_L2(q_vector)\n",
    "scores, indexes = index.search(q_vector, 10)\n",
    "topk_result = data.values[indexes[0].tolist()]\n",
    "topk_result[:, 0]"
   ]
  },
  {
   "cell_type": "markdown",
   "metadata": {},
   "source": [
    "## Step7 加载交互模型"
   ]
  },
  {
   "cell_type": "code",
   "execution_count": null,
   "metadata": {},
   "outputs": [],
   "source": [
    "from transformers import BertForSequenceClassification\n",
    "\n",
    "# 需要完成前置模型训练\n",
    "corss_model = BertForSequenceClassification.from_pretrained(\"../12-sentence_similarity/cross_model/checkpoint-500/\")\n",
    "corss_model = corss_model.cuda()\n",
    "corss_model.eval()\n",
    "print(\"模型加载成功！\")"
   ]
  },
  {
   "cell_type": "markdown",
   "metadata": {},
   "source": [
    "## Step8 最终预测(排序)"
   ]
  },
  {
   "cell_type": "code",
   "execution_count": null,
   "metadata": {},
   "outputs": [],
   "source": [
    "canidate = topk_result[:, 0].tolist()\n",
    "ques = [quesiton] * len(canidate)\n",
    "inputs = tokenzier(ques, canidate, return_tensors=\"pt\", padding=True, max_length=128, truncation=True)\n",
    "inputs = {k: v.to(corss_model.device) for k, v in inputs.items()}\n",
    "with torch.inference_mode():\n",
    "    logits = corss_model(**inputs).logits.squeeze()\n",
    "    result = torch.argmax(logits, dim=-1)\n",
    "result"
   ]
  },
  {
   "cell_type": "code",
   "execution_count": null,
   "metadata": {},
   "outputs": [],
   "source": [
    "canidate_answer = topk_result[:, 1].tolist()\n",
    "match_quesiton = canidate[result.item()]\n",
    "final_answer = canidate_answer[result.item()]\n",
    "match_quesiton, final_answer"
   ]
  }
 ],
 "metadata": {
  "kernelspec": {
   "display_name": "transformers",
   "language": "python",
   "name": "python3"
  },
  "language_info": {
   "codemirror_mode": {
    "name": "ipython",
    "version": 3
   },
   "file_extension": ".py",
   "mimetype": "text/x-python",
   "name": "python",
   "nbconvert_exporter": "python",
   "pygments_lexer": "ipython3",
   "version": "3.9.16"
  },
  "orig_nbformat": 4
 },
 "nbformat": 4,
 "nbformat_minor": 2
}
